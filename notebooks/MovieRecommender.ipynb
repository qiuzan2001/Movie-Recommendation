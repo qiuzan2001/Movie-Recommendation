{
 "cells": [
  {
   "cell_type": "code",
   "id": "initial_id",
   "metadata": {
    "ExecuteTime": {
     "end_time": "2024-12-16T11:48:30.665444Z",
     "start_time": "2024-12-16T11:40:57.978945Z"
    }
   },
   "source": [
    "# notebooks/MovieRecommender.ipynb\n",
    "\n",
    "import sys\n",
    "sys.path.append('..')\n",
    "\n",
    "import pandas as pd\n",
    "import numpy as np\n",
    "from utils.data_loader import load_data\n",
    "from utils.popularity import get_top_popular_movies, define_popularity\n",
    "from utils.similarity import center_rows, compute_similarity\n",
    "from utils.ibcf import myIBCF\n",
    "from utils.constants import MIN_COMMON_RATINGS, TOP_K\n",
    "\n",
    "# 1. Load Data\n",
    "movies, users, R_df = load_data()\n",
    "\n",
    "# 2. System I: Popularity-based Recommendation\n",
    "top_10_popular = get_top_popular_movies(R_df, movies, top_n=10)\n",
    "display(top_10_popular)\n",
    "\n",
    "# 3. System II: IBCF\n",
    "R_matrix = R_df.values\n",
    "R_centered, row_means = center_rows(R_matrix)\n",
    "\n",
    "S = compute_similarity(R_centered)\n",
    "\n",
    "# Display S for specified movies\n",
    "movies_to_display = [\"m1\", \"m10\", \"m100\", \"m1510\", \"m260\", \"m3212\"]\n",
    "for mv in movies_to_display:\n",
    "    idx = int(mv[1:]) - 1\n",
    "    sim_row = pd.Series(S[idx,:], index=R_df.columns).round(7)\n",
    "    # Display non-NA similarities (just a sample)\n",
    "    display(mv, sim_row.dropna().head(10))\n",
    "\n",
    "# Save S\n",
    "np.save('../data/similarity_matrix.npy', S)\n",
    "\n",
    "popularity_ranking = define_popularity(R_df)\n",
    "\n",
    "# Test myIBCF function\n",
    "# For user \"u1181\"\n",
    "test_user_vector = R_df.loc[\"u1181\"].values\n",
    "recommended_user1181 = myIBCF(test_user_vector, S, R_df, popularity_ranking)\n",
    "print(\"Top 10 recommendations for user u1181:\", recommended_user1181)\n",
    "\n",
    "# Hypothetical user: rates \"m1613\"=5, \"m1755\"=4, others NA\n",
    "NUM_MOVIES = R_df.shape[1]\n",
    "hypo_user = np.full(NUM_MOVIES, np.nan)\n",
    "hypo_user[1612] = 5.0  # index for m1613 is 1612\n",
    "hypo_user[1754] = 4.0  # index for m1755 is 1754\n",
    "\n",
    "recommended_hypo = myIBCF(hypo_user, S, R_df, popularity_ranking)\n",
    "print(\"Top 10 recommendations for the hypothetical user:\", recommended_hypo)\n"
   ],
   "outputs": [
    {
     "data": {
      "text/plain": [
       "                                                     Title MovieID_str\n",
       "MovieID                                                               \n",
       "2858                                American Beauty (1999)       m2858\n",
       "260              Star Wars: Episode IV - A New Hope (1977)        m260\n",
       "1196     Star Wars: Episode V - The Empire Strikes Back...       m1196\n",
       "1210     Star Wars: Episode VI - Return of the Jedi (1983)       m1210\n",
       "2028                            Saving Private Ryan (1998)       m2028\n",
       "1198                        Raiders of the Lost Ark (1981)       m1198\n",
       "593                       Silence of the Lambs, The (1991)        m593\n",
       "2571                                    Matrix, The (1999)       m2571\n",
       "2762                               Sixth Sense, The (1999)       m2762\n",
       "589                      Terminator 2: Judgment Day (1991)        m589"
      ],
      "text/html": [
       "<div>\n",
       "<style scoped>\n",
       "    .dataframe tbody tr th:only-of-type {\n",
       "        vertical-align: middle;\n",
       "    }\n",
       "\n",
       "    .dataframe tbody tr th {\n",
       "        vertical-align: top;\n",
       "    }\n",
       "\n",
       "    .dataframe thead th {\n",
       "        text-align: right;\n",
       "    }\n",
       "</style>\n",
       "<table border=\"1\" class=\"dataframe\">\n",
       "  <thead>\n",
       "    <tr style=\"text-align: right;\">\n",
       "      <th></th>\n",
       "      <th>Title</th>\n",
       "      <th>MovieID_str</th>\n",
       "    </tr>\n",
       "    <tr>\n",
       "      <th>MovieID</th>\n",
       "      <th></th>\n",
       "      <th></th>\n",
       "    </tr>\n",
       "  </thead>\n",
       "  <tbody>\n",
       "    <tr>\n",
       "      <th>2858</th>\n",
       "      <td>American Beauty (1999)</td>\n",
       "      <td>m2858</td>\n",
       "    </tr>\n",
       "    <tr>\n",
       "      <th>260</th>\n",
       "      <td>Star Wars: Episode IV - A New Hope (1977)</td>\n",
       "      <td>m260</td>\n",
       "    </tr>\n",
       "    <tr>\n",
       "      <th>1196</th>\n",
       "      <td>Star Wars: Episode V - The Empire Strikes Back...</td>\n",
       "      <td>m1196</td>\n",
       "    </tr>\n",
       "    <tr>\n",
       "      <th>1210</th>\n",
       "      <td>Star Wars: Episode VI - Return of the Jedi (1983)</td>\n",
       "      <td>m1210</td>\n",
       "    </tr>\n",
       "    <tr>\n",
       "      <th>2028</th>\n",
       "      <td>Saving Private Ryan (1998)</td>\n",
       "      <td>m2028</td>\n",
       "    </tr>\n",
       "    <tr>\n",
       "      <th>1198</th>\n",
       "      <td>Raiders of the Lost Ark (1981)</td>\n",
       "      <td>m1198</td>\n",
       "    </tr>\n",
       "    <tr>\n",
       "      <th>593</th>\n",
       "      <td>Silence of the Lambs, The (1991)</td>\n",
       "      <td>m593</td>\n",
       "    </tr>\n",
       "    <tr>\n",
       "      <th>2571</th>\n",
       "      <td>Matrix, The (1999)</td>\n",
       "      <td>m2571</td>\n",
       "    </tr>\n",
       "    <tr>\n",
       "      <th>2762</th>\n",
       "      <td>Sixth Sense, The (1999)</td>\n",
       "      <td>m2762</td>\n",
       "    </tr>\n",
       "    <tr>\n",
       "      <th>589</th>\n",
       "      <td>Terminator 2: Judgment Day (1991)</td>\n",
       "      <td>m589</td>\n",
       "    </tr>\n",
       "  </tbody>\n",
       "</table>\n",
       "</div>"
      ]
     },
     "metadata": {},
     "output_type": "display_data"
    },
    {
     "data": {
      "text/plain": [
       "'m1'"
      ]
     },
     "metadata": {},
     "output_type": "display_data"
    },
    {
     "data": {
      "text/plain": [
       "m150    0.608120\n",
       "m260    0.641659\n",
       "m318    0.643794\n",
       "m356    0.618132\n",
       "m364    0.627962\n",
       "m457    0.616146\n",
       "m527    0.624002\n",
       "m588    0.636349\n",
       "m589    0.604416\n",
       "m593    0.613962\n",
       "dtype: float64"
      ]
     },
     "metadata": {},
     "output_type": "display_data"
    },
    {
     "data": {
      "text/plain": [
       "'m10'"
      ]
     },
     "metadata": {},
     "output_type": "display_data"
    },
    {
     "data": {
      "text/plain": [
       "m163     0.559561\n",
       "m165     0.573200\n",
       "m349     0.552771\n",
       "m380     0.575661\n",
       "m457     0.551900\n",
       "m733     0.563643\n",
       "m780     0.564190\n",
       "m1210    0.551426\n",
       "m1291    0.562249\n",
       "m1370    0.556389\n",
       "dtype: float64"
      ]
     },
     "metadata": {},
     "output_type": "display_data"
    },
    {
     "data": {
      "text/plain": [
       "'m100'"
      ]
     },
     "metadata": {},
     "output_type": "display_data"
    },
    {
     "data": {
      "text/plain": [
       "m9      0.551868\n",
       "m113    0.568705\n",
       "m225    0.574356\n",
       "m236    0.550385\n",
       "m259    0.555411\n",
       "m387    0.561983\n",
       "m436    0.555419\n",
       "m478    0.558482\n",
       "m612    0.550377\n",
       "m782    0.583883\n",
       "dtype: float64"
      ]
     },
     "metadata": {},
     "output_type": "display_data"
    },
    {
     "data": {
      "text/plain": [
       "'m1510'"
      ]
     },
     "metadata": {},
     "output_type": "display_data"
    },
    {
     "data": {
      "text/plain": [
       "Series([], dtype: float64)"
      ]
     },
     "metadata": {},
     "output_type": "display_data"
    },
    {
     "data": {
      "text/plain": [
       "'m260'"
      ]
     },
     "metadata": {},
     "output_type": "display_data"
    },
    {
     "data": {
      "text/plain": [
       "m1      0.641659\n",
       "m50     0.672096\n",
       "m110    0.657400\n",
       "m318    0.673709\n",
       "m457    0.643910\n",
       "m527    0.662275\n",
       "m541    0.660568\n",
       "m589    0.647639\n",
       "m593    0.652069\n",
       "m750    0.659269\n",
       "dtype: float64"
      ]
     },
     "metadata": {},
     "output_type": "display_data"
    },
    {
     "data": {
      "text/plain": [
       "'m3212'"
      ]
     },
     "metadata": {},
     "output_type": "display_data"
    },
    {
     "data": {
      "text/plain": [
       "Series([], dtype: float64)"
      ]
     },
     "metadata": {},
     "output_type": "display_data"
    },
    {
     "name": "stdout",
     "output_type": "stream",
     "text": [
      "Top 10 recommendations for user u1181: ['m3338', 'm3415', 'm3013', 'm2514', 'm2585', 'm3780', 'm30', 'm1993', 'm1039', 'm1329']\n",
      "Top 10 recommendations for the hypothetical user: ['m3900', 'm1507', 'm3566', 'm1401', 'm1399', 'm1310', 'm1202', 'm1063', 'm1044', 'm997']\n"
     ]
    }
   ],
   "execution_count": 4
  },
  {
   "cell_type": "code",
   "execution_count": null,
   "id": "f97079d73fbb8840",
   "metadata": {},
   "outputs": [],
   "source": []
  }
 ],
 "metadata": {
  "kernelspec": {
   "display_name": "Python [conda env:base] *",
   "language": "python",
   "name": "conda-base-py"
  },
  "language_info": {
   "codemirror_mode": {
    "name": "ipython",
    "version": 3
   },
   "file_extension": ".py",
   "mimetype": "text/x-python",
   "name": "python",
   "nbconvert_exporter": "python",
   "pygments_lexer": "ipython3",
   "version": "3.12.7"
  }
 },
 "nbformat": 4,
 "nbformat_minor": 5
}
