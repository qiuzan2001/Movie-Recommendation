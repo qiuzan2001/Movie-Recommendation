{
 "cells": [
  {
   "cell_type": "markdown",
   "id": "e0a7aae8-ba8f-4438-9c5d-8cbf1d8a4f0c",
   "metadata": {},
   "source": [
    "# Movie Recommender System Report Reproduction"
   ]
  },
  {
   "cell_type": "code",
   "execution_count": 2,
   "id": "5e0765a5-e07c-4fa4-933f-c71fb83ea54b",
   "metadata": {},
   "source": [
    "import pandas as pd\n",
    "import numpy as np\n",
    "import os\n",
    "\n",
    "# Constants\n",
    "MIN_COMMON_RATINGS = 3\n",
    "TOP_K = 30"
   ],
   "outputs": []
  },
  {
   "cell_type": "markdown",
   "id": "264be2e1-43f8-46e9-b709-2db5705ce37a",
   "metadata": {},
   "source": [
    "## Data Loading"
   ]
  },
  {
   "cell_type": "code",
   "execution_count": 7,
   "id": "b60c7768-1035-4be8-9580-535f6bc4b92f",
   "metadata": {},
   "source": [
    "def load_data(data_path=''):\n",
    "    movies = pd.read_csv(\n",
    "        os.path.join(data_path, 'movies.dat'),\n",
    "        sep='::',\n",
    "        header=None,\n",
    "        names=['MovieID', 'Title', 'Genres'],\n",
    "        engine='python',\n",
    "        encoding='latin-1'\n",
    "    )\n",
    "\n",
    "    ratings = pd.read_csv(\n",
    "        os.path.join(data_path, 'ratings.dat'),\n",
    "        sep='::',\n",
    "        header=None,\n",
    "        names=['UserID', 'MovieID', 'Rating', 'Timestamp'],\n",
    "        engine='python',\n",
    "        encoding='latin-1'\n",
    "    )\n",
    "\n",
    "    users = pd.read_csv(\n",
    "        os.path.join(data_path, 'users.dat'),\n",
    "        sep='::',\n",
    "        header=None,\n",
    "        names=['UserID', 'Gender', 'Age', 'Occupation', 'Zip-code'],\n",
    "        engine='python',\n",
    "        encoding='latin-1'\n",
    "    )\n",
    "\n",
    "    max_user_id = ratings['UserID'].max()  \n",
    "    max_movie_id = ratings['MovieID'].max()  \n",
    "\n",
    "    NUM_USERS = max_user_id\n",
    "    NUM_MOVIES = max_movie_id\n",
    "\n",
    "    R = np.full((NUM_USERS, NUM_MOVIES), np.nan)\n",
    "\n",
    "    for row in ratings.itertuples():\n",
    "        u = row.UserID - 1\n",
    "        m = row.MovieID - 1\n",
    "        R[u, m] = row.Rating\n",
    "\n",
    "    R_df = pd.DataFrame(\n",
    "        R,\n",
    "        index=['u' + str(i) for i in range(1, NUM_USERS + 1)],\n",
    "        columns=['m' + str(j) for j in range(1, NUM_MOVIES + 1)]\n",
    "    )\n",
    "\n",
    "    return movies, users, R_df\n"
   ],
   "outputs": []
  },
  {
   "cell_type": "code",
   "execution_count": 9,
   "id": "69388978-39d4-4dda-8df5-5b7f6a6f8b4b",
   "metadata": {},
   "source": [
    "movies, users, R_df = load_data()"
   ],
   "outputs": []
  },
  {
   "cell_type": "markdown",
   "id": "56b4ea52-15c6-4b00-b37b-99be0be6c5b7",
   "metadata": {},
   "source": [
    "## System I: Popularity-Based Recommendation"
   ]
  },
  {
   "cell_type": "code",
   "execution_count": 13,
   "id": "dc977d83-3306-4b34-a034-5f7ac9ca4b0f",
   "metadata": {},
   "source": [
    "def define_popularity(R_df):\n",
    "    count_ratings = R_df.notna().sum(axis=0)\n",
    "    avg_ratings = R_df.mean(axis=0, skipna=True)\n",
    "    popularity_score = count_ratings * avg_ratings\n",
    "    popularity_ranking = popularity_score.sort_values(ascending=False)\n",
    "    return popularity_ranking\n",
    "\n",
    "def get_top_popular_movies(R_df, movies, top_n=10):\n",
    "    popularity_ranking = define_popularity(R_df)\n",
    "    top_movies = popularity_ranking.head(top_n).index\n",
    "    top_info = movies.set_index('MovieID').loc[[int(x[1:]) for x in top_movies]]\n",
    "    top_info = top_info[['Title']]\n",
    "    top_info['MovieID_str'] = top_movies\n",
    "    return top_info\n",
    "\n",
    "print(\"Top 10 Popular Movies:\")\n",
    "top_10_popular = get_top_popular_movies(R_df, movies, top_n=10)\n",
    "display(top_10_popular)"
   ],
   "outputs": []
  },
  {
   "cell_type": "markdown",
   "id": "8c592e0a-8a39-47e2-9259-3f8c50b17619",
   "metadata": {},
   "source": [
    "## System II: IBCF"
   ]
  },
  {
   "cell_type": "code",
   "execution_count": 16,
   "id": "8dcc1216-6f28-4a0e-ad80-59b969241483",
   "metadata": {},
   "source": [
    "def center_rows(R):\n",
    "    R_centered = R.copy()\n",
    "    means = np.nanmean(R_centered, axis=1)\n",
    "    for i in range(R_centered.shape[0]):\n",
    "        row_mask = ~np.isnan(R_centered[i,:])\n",
    "        R_centered[i,row_mask] = R_centered[i,row_mask] - means[i]\n",
    "    return R_centered, means\n",
    "\n",
    "R_matrix = R_df.values\n",
    "R_centered, row_means = center_rows(R_matrix)\n",
    "\n",
    "def compute_similarity(R_centered):\n",
    "    num_users, num_movies = R_centered.shape\n",
    "    norms = np.sqrt(np.nansum(R_centered**2, axis=0))\n",
    "    S = np.full((num_movies, num_movies), np.nan)\n",
    "    \n",
    "    for i in range(num_movies):\n",
    "        Ri = R_centered[:, i]\n",
    "        valid_i = ~np.isnan(Ri)\n",
    "        for j in range(num_movies):\n",
    "            if j == i:\n",
    "                continue\n",
    "            Rj = R_centered[:, j]\n",
    "            valid_j = ~np.isnan(Rj)\n",
    "            both = valid_i & valid_j\n",
    "            if np.sum(both) >= MIN_COMMON_RATINGS:\n",
    "                num = np.nansum(Ri[both]*Rj[both])\n",
    "                den = norms[i]*norms[j]\n",
    "                if den > 0:\n",
    "                    cos_ij = num/den\n",
    "                    sij = (1+cos_ij)/2\n",
    "                    S[i,j] = sij\n",
    "\n",
    "    for i in range(num_movies):\n",
    "        row = S[i,:]\n",
    "        non_na_idx = np.where(~np.isnan(row))[0]\n",
    "        if len(non_na_idx) > TOP_K:\n",
    "            top_idx = non_na_idx[np.argsort(row[non_na_idx])[-TOP_K:]]\n",
    "            mask = np.ones(len(row), dtype=bool)\n",
    "            mask[top_idx] = False\n",
    "            S[i, mask] = np.nan\n",
    "    return S\n",
    "\n",
    "S = compute_similarity(R_centered)"
   ],
   "outputs": []
  },
  {
   "cell_type": "code",
   "execution_count": 17,
   "id": "3aafe121-93c2-4985-b5be-1b10f2b7865c",
   "metadata": {},
   "source": [
    "movies_to_display = [\"m1\", \"m10\", \"m100\", \"m1510\", \"m260\", \"m3212\"]\n",
    "print(\"Showing similarity values for selected movies:\")\n",
    "for mv in movies_to_display:\n",
    "    idx = int(mv[1:]) - 1\n",
    "    sim_row = pd.Series(S[idx,:], index=R_df.columns).round(7)\n",
    "    non_na_sim = sim_row.dropna().sort_values(ascending=False).head(10)\n",
    "    print(f\"Similarities for {mv}:\")\n",
    "    display(non_na_sim)"
   ],
   "outputs": []
  },
  {
   "cell_type": "markdown",
   "id": "9728d1bd-5376-4354-98f2-f4cb7d4f2d98",
   "metadata": {},
   "source": [
    "### IBCF Prediction Function"
   ]
  },
  {
   "cell_type": "code",
   "execution_count": 19,
   "id": "6bb16c1b-ae82-4e1f-9fb4-35cbc090554c",
   "metadata": {},
   "source": [
    "popularity_ranking = define_popularity(R_df)\n",
    "\n",
    "def myIBCF(newuser, S, R_df, popularity_ranking, top_n=10):\n",
    "    w = newuser.copy()\n",
    "    NUM_MOVIES = R_df.shape[1]\n",
    "    rated_mask = ~np.isnan(w)\n",
    "    predictions = np.full(NUM_MOVIES, np.nan)\n",
    "\n",
    "    for i in range(NUM_MOVIES):\n",
    "        if rated_mask[i]:\n",
    "            continue\n",
    "        sim_movies = np.where(~np.isnan(S[i,:]))[0]\n",
    "        rated_and_similar = sim_movies[rated_mask[sim_movies]]\n",
    "        if len(rated_and_similar) == 0:\n",
    "            continue\n",
    "        sim_vals = S[i, rated_and_similar]\n",
    "        user_ratings = w[rated_and_similar]\n",
    "        denom = np.nansum(sim_vals)\n",
    "        if denom > 0:\n",
    "            pred = np.nansum(sim_vals * user_ratings) / denom\n",
    "            predictions[i] = pred\n",
    "    \n",
    "    non_na_preds = np.where(~np.isnan(predictions))[0]\n",
    "    if len(non_na_preds) < top_n:\n",
    "        # Not enough predictions, fallback to popularity\n",
    "        sorted_preds_idx = non_na_preds[np.argsort(predictions[non_na_preds])[::-1]]\n",
    "        top_already = set(sorted_preds_idx)\n",
    "        needed = top_n - len(sorted_preds_idx)\n",
    "        all_movies_pop_order = popularity_ranking.index\n",
    "        rated_movies = set(np.where(rated_mask)[0])\n",
    "        candidate_pop = [int(x[1:])-1 for x in all_movies_pop_order\n",
    "                         if (int(x[1:])-1 not in rated_movies and int(x[1:])-1 not in top_already)]\n",
    "        fill_movies = candidate_pop[:needed]\n",
    "        final_indices = list(sorted_preds_idx) + fill_movies\n",
    "    else:\n",
    "        sorted_preds_idx = non_na_preds[np.argsort(predictions[non_na_preds])[::-1]]\n",
    "        final_indices = sorted_preds_idx[:top_n]\n",
    "\n",
    "    recommended = [\"m\"+str(i+1) for i in final_indices]\n",
    "    return recommended\n"
   ],
   "outputs": []
  },
  {
   "cell_type": "markdown",
   "id": "69518b35-00dc-4212-93c7-0456eca9b25b",
   "metadata": {},
   "source": [
    "### Testing myIBCF"
   ]
  },
  {
   "cell_type": "code",
   "execution_count": 21,
   "id": "ac5c3c1f-77a7-4bb1-aa3a-bc35a2a9e112",
   "metadata": {},
   "source": [
    "test_user_vector = R_df.loc[\"u1181\"].values\n",
    "recommended_user1181 = myIBCF(test_user_vector, S, R_df, popularity_ranking)\n",
    "print(\"Top 10 recommendations for user u1181:\", recommended_user1181)"
   ],
   "outputs": []
  },
  {
   "cell_type": "code",
   "execution_count": 22,
   "id": "e07bd5be-9b79-42aa-adfc-4aaf695efd73",
   "metadata": {},
   "source": [
    "NUM_MOVIES = R_df.shape[1]\n",
    "hypo_user = np.full(NUM_MOVIES, np.nan)\n",
    "hypo_user[1612] = 5.0  # m1613 index is 1612\n",
    "hypo_user[1754] = 4.0  # m1755 index is 1754\n",
    "\n",
    "recommended_hypo = myIBCF(hypo_user, S, R_df, popularity_ranking)\n",
    "print(\"Top 10 recommendations for the hypothetical user:\", recommended_hypo)"
   ],
   "outputs": []
  },
  {
   "cell_type": "code",
   "execution_count": 28,
   "id": "e19b5093-3b52-4d6e-9a01-ed35d23b3315",
   "metadata": {},
   "source": [
    "user_rating = rating_matrix.loc[\"u1181\"].copy()\n",
    "user_rating\n",
    "print(myIBCF(S, user_rating))"
   ],
   "outputs": []
  },
  {
   "cell_type": "code",
   "execution_count": null,
   "id": "0bb66287-5afa-4b0a-aef4-9e6e1e7720b0",
   "metadata": {},
   "source": [],
   "outputs": []
  }
 ],
 "metadata": {
  "kernelspec": {
   "display_name": "Python [conda env:base] *",
   "language": "python",
   "name": "conda-base-py"
  },
  "language_info": {
   "codemirror_mode": {
    "name": "ipython",
    "version": 3
   },
   "file_extension": ".py",
   "mimetype": "text/x-python",
   "name": "python",
   "nbconvert_exporter": "python",
   "pygments_lexer": "ipython3",
   "version": "3.12.7"
  }
 },
 "nbformat": 4,
 "nbformat_minor": 5
}
