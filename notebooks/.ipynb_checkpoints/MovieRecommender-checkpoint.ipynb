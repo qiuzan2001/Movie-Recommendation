{
 "cells": [
  {
   "cell_type": "code",
   "id": "initial_id",
   "metadata": {
    "collapsed": true,
    "jupyter": {
     "is_executing": true
    }
   },
   "source": [
    "# notebooks/MovieRecommender.ipynb\n",
    "\n",
    "import sys\n",
    "sys.path.append('..')\n",
    "\n",
    "import pandas as pd\n",
    "import numpy as np\n",
    "from utils.data_loader import load_data\n",
    "from utils.popularity import get_top_popular_movies, define_popularity\n",
    "from utils.similarity import center_rows, compute_similarity\n",
    "from utils.ibcf import myIBCF\n",
    "from utils.constants import NUM_MOVIES\n",
    "\n",
    "# 1. Load Data\n",
    "movies, users, R_df = load_data()\n",
    "\n",
    "# 2. System I: Popularity-based Recommendation\n",
    "top_10_popular = get_top_popular_movies(R_df, movies, top_n=10)\n",
    "display(top_10_popular)\n",
    "\n",
    "# 3. System II: IBCF\n",
    "#    (a) Normalize rating matrix by centering each row.\n",
    "R_matrix = R_df.values\n",
    "R_centered, row_means = center_rows(R_matrix)\n",
    "\n",
    "#    (b) Compute similarity\n",
    "S = compute_similarity(R_centered)\n",
    "\n",
    "# Display S for given movies: \"m1\", \"m10\", \"m100\", \"m1510\", \"m260\", \"m3212\"\n",
    "movies_to_display = [\"m1\", \"m10\", \"m100\", \"m1510\", \"m260\", \"m3212\"]\n",
    "for mv in movies_to_display:\n",
    "    idx = int(mv[1:]) - 1\n",
    "    # round to 7 decimal places and display non-NA values\n",
    "    sim_row = pd.Series(S[idx,:], index=R_df.columns).round(7)\n",
    "    display(mv, sim_row.dropna().head(10))  # show a sample of similarities\n",
    "\n",
    "# Save S for future use\n",
    "np.save('../data/similarity_matrix.npy', S)\n",
    "\n",
    "# Prepare popularity ranking for fallback\n",
    "popularity_ranking = define_popularity(R_df)\n",
    "\n",
    "# 4. Test myIBCF function\n",
    "# User \"u1181\" from rating matrix R\n",
    "test_user_id = 1181\n",
    "test_user_vector = R_df.loc[\"u1181\"].values\n",
    "\n",
    "recommended_user1181 = myIBCF(test_user_vector, S, R_df, popularity_ranking)\n",
    "print(\"Top 10 recommendations for user u1181:\", recommended_user1181)\n",
    "\n",
    "# Hypothetical user: rates \"m1613\"=5, \"m1755\"=4, others NA\n",
    "hypo_user = np.full(NUM_MOVIES, np.nan)\n",
    "hypo_user[1612] = 5.0  # m1613 index is 1612 (0-based)\n",
    "hypo_user[1754] = 4.0  # m1755 index is 1754 (0-based)\n",
    "\n",
    "recommended_hypo = myIBCF(hypo_user, S, R_df, popularity_ranking)\n",
    "print(\"Top 10 recommendations for the hypothetical user:\", recommended_hypo)\n"
   ],
   "execution_count": null,
   "outputs": []
  },
  {
   "metadata": {},
   "cell_type": "code",
   "execution_count": null,
   "source": "",
   "id": "f97079d73fbb8840",
   "outputs": []
  }
 ],
 "metadata": {
  "kernelspec": {
   "display_name": "Python 3",
   "language": "python",
   "name": "python3"
  },
  "language_info": {
   "codemirror_mode": {
    "name": "ipython",
    "version": 2
   },
   "file_extension": ".py",
   "mimetype": "text/x-python",
   "name": "python",
   "nbconvert_exporter": "python",
   "pygments_lexer": "ipython2",
   "version": "2.7.6"
  }
 },
 "nbformat": 4,
 "nbformat_minor": 5
}
